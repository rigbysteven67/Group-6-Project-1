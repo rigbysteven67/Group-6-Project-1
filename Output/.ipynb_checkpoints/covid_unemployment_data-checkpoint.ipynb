{
 "cells": [
  {
   "cell_type": "code",
   "execution_count": 18,
   "metadata": {},
   "outputs": [],
   "source": [
    "import pandas as pd\n",
    "import matplotlib.pyplot as plt"
   ]
  },
  {
   "cell_type": "code",
   "execution_count": 76,
   "metadata": {},
   "outputs": [
    {
     "name": "stderr",
     "output_type": "stream",
     "text": [
      "<ipython-input-76-1eac962d26b5>:6: SettingWithCopyWarning: \n",
      "A value is trying to be set on a copy of a slice from a DataFrame.\n",
      "Try using .loc[row_indexer,col_indexer] = value instead\n",
      "\n",
      "See the caveats in the documentation: https://pandas.pydata.org/pandas-docs/stable/user_guide/indexing.html#returning-a-view-versus-a-copy\n",
      "  revised_cases_df['% of New Cases'] = (revised_cases_df['new_cases'] / revised_cases_df['total_population']) *100\n"
     ]
    },
    {
     "data": {
      "text/html": [
       "<div>\n",
       "<style scoped>\n",
       "    .dataframe tbody tr th:only-of-type {\n",
       "        vertical-align: middle;\n",
       "    }\n",
       "\n",
       "    .dataframe tbody tr th {\n",
       "        vertical-align: top;\n",
       "    }\n",
       "\n",
       "    .dataframe thead th {\n",
       "        text-align: right;\n",
       "    }\n",
       "</style>\n",
       "<table border=\"1\" class=\"dataframe\">\n",
       "  <thead>\n",
       "    <tr style=\"text-align: right;\">\n",
       "      <th></th>\n",
       "      <th>state</th>\n",
       "      <th>date</th>\n",
       "      <th>total_population</th>\n",
       "      <th>new_cases</th>\n",
       "      <th>new_cases_per_100_000</th>\n",
       "      <th>% of New Cases</th>\n",
       "    </tr>\n",
       "  </thead>\n",
       "  <tbody>\n",
       "    <tr>\n",
       "      <th>0</th>\n",
       "      <td>Alabama</td>\n",
       "      <td>1/22/2020</td>\n",
       "      <td>4887871.0</td>\n",
       "      <td>0.0</td>\n",
       "      <td>0.0</td>\n",
       "      <td>0.0</td>\n",
       "    </tr>\n",
       "    <tr>\n",
       "      <th>1</th>\n",
       "      <td>Alabama</td>\n",
       "      <td>1/23/2020</td>\n",
       "      <td>4887871.0</td>\n",
       "      <td>0.0</td>\n",
       "      <td>0.0</td>\n",
       "      <td>0.0</td>\n",
       "    </tr>\n",
       "    <tr>\n",
       "      <th>2</th>\n",
       "      <td>Alabama</td>\n",
       "      <td>1/24/2020</td>\n",
       "      <td>4887871.0</td>\n",
       "      <td>0.0</td>\n",
       "      <td>0.0</td>\n",
       "      <td>0.0</td>\n",
       "    </tr>\n",
       "    <tr>\n",
       "      <th>3</th>\n",
       "      <td>Alabama</td>\n",
       "      <td>1/25/2020</td>\n",
       "      <td>4887871.0</td>\n",
       "      <td>0.0</td>\n",
       "      <td>0.0</td>\n",
       "      <td>0.0</td>\n",
       "    </tr>\n",
       "    <tr>\n",
       "      <th>4</th>\n",
       "      <td>Alabama</td>\n",
       "      <td>1/26/2020</td>\n",
       "      <td>4887871.0</td>\n",
       "      <td>0.0</td>\n",
       "      <td>0.0</td>\n",
       "      <td>0.0</td>\n",
       "    </tr>\n",
       "  </tbody>\n",
       "</table>\n",
       "</div>"
      ],
      "text/plain": [
       "     state       date  total_population  new_cases  new_cases_per_100_000  \\\n",
       "0  Alabama  1/22/2020         4887871.0        0.0                    0.0   \n",
       "1  Alabama  1/23/2020         4887871.0        0.0                    0.0   \n",
       "2  Alabama  1/24/2020         4887871.0        0.0                    0.0   \n",
       "3  Alabama  1/25/2020         4887871.0        0.0                    0.0   \n",
       "4  Alabama  1/26/2020         4887871.0        0.0                    0.0   \n",
       "\n",
       "   % of New Cases  \n",
       "0             0.0  \n",
       "1             0.0  \n",
       "2             0.0  \n",
       "3             0.0  \n",
       "4             0.0  "
      ]
     },
     "execution_count": 76,
     "metadata": {},
     "output_type": "execute_result"
    }
   ],
   "source": [
    "cases_file = '../Resources/Covid cases by state.csv'\n",
    "cases_df = pd.read_csv(cases_file, encoding=\"ISO-8859-1\")\n",
    "cases_df = cases_df.fillna(0)\n",
    "\n",
    "revised_cases_df = cases_df[['state','date','total_population','new_cases','new_cases_per_100_000']]\n",
    "revised_cases_df['% of New Cases'] = (revised_cases_df['new_cases'] / revised_cases_df['total_population']) *100\n",
    "revised_cases_df = revised_cases_df.fillna(0)\n",
    "revised_cases_df.head()"
   ]
  },
  {
   "cell_type": "code",
   "execution_count": 53,
   "metadata": {},
   "outputs": [
    {
     "data": {
      "text/html": [
       "<div>\n",
       "<style scoped>\n",
       "    .dataframe tbody tr th:only-of-type {\n",
       "        vertical-align: middle;\n",
       "    }\n",
       "\n",
       "    .dataframe tbody tr th {\n",
       "        vertical-align: top;\n",
       "    }\n",
       "\n",
       "    .dataframe thead th {\n",
       "        text-align: right;\n",
       "    }\n",
       "</style>\n",
       "<table border=\"1\" class=\"dataframe\">\n",
       "  <thead>\n",
       "    <tr style=\"text-align: right;\">\n",
       "      <th></th>\n",
       "      <th>state</th>\n",
       "      <th>date</th>\n",
       "      <th>Initial Claims</th>\n",
       "      <th>Insured Unemployment Rate</th>\n",
       "    </tr>\n",
       "  </thead>\n",
       "  <tbody>\n",
       "    <tr>\n",
       "      <th>0</th>\n",
       "      <td>Alabama</td>\n",
       "      <td>1/4/2020</td>\n",
       "      <td>4,578</td>\n",
       "      <td>0.96</td>\n",
       "    </tr>\n",
       "    <tr>\n",
       "      <th>1</th>\n",
       "      <td>Alabama</td>\n",
       "      <td>1/11/2020</td>\n",
       "      <td>3,629</td>\n",
       "      <td>1.10</td>\n",
       "    </tr>\n",
       "    <tr>\n",
       "      <th>2</th>\n",
       "      <td>Alabama</td>\n",
       "      <td>1/18/2020</td>\n",
       "      <td>2,483</td>\n",
       "      <td>0.90</td>\n",
       "    </tr>\n",
       "    <tr>\n",
       "      <th>3</th>\n",
       "      <td>Alabama</td>\n",
       "      <td>1/25/2020</td>\n",
       "      <td>2,129</td>\n",
       "      <td>0.96</td>\n",
       "    </tr>\n",
       "    <tr>\n",
       "      <th>4</th>\n",
       "      <td>Alabama</td>\n",
       "      <td>2/1/2020</td>\n",
       "      <td>2,170</td>\n",
       "      <td>0.90</td>\n",
       "    </tr>\n",
       "  </tbody>\n",
       "</table>\n",
       "</div>"
      ],
      "text/plain": [
       "     state       date Initial Claims  Insured Unemployment Rate\n",
       "0  Alabama   1/4/2020          4,578                       0.96\n",
       "1  Alabama  1/11/2020          3,629                       1.10\n",
       "2  Alabama  1/18/2020          2,483                       0.90\n",
       "3  Alabama  1/25/2020          2,129                       0.96\n",
       "4  Alabama   2/1/2020          2,170                       0.90"
      ]
     },
     "execution_count": 53,
     "metadata": {},
     "output_type": "execute_result"
    }
   ],
   "source": [
    "unemployment_file = '../Resources/Unemployment claims by state.csv'\n",
    "unemployment_df = pd.read_csv(unemployment_file, encoding=\"ISO-8859-1\")\n",
    "unemployment_df = unemployment_df.fillna(0)\n",
    "\n",
    "revised_unemployment_df = unemployment_df.rename(columns={'Filed week ended':'date', 'ï»¿State': 'state'})\n",
    "revised_unemployment_df = revised_unemployment_df[['state', 'date', 'Initial Claims', 'Insured Unemployment Rate']]\n",
    "revised_unemployment_df = revised_unemployment_df.fillna(0)\n",
    "revised_unemployment_df.head()\n"
   ]
  },
  {
   "cell_type": "code",
   "execution_count": 77,
   "metadata": {},
   "outputs": [
    {
     "data": {
      "text/html": [
       "<div>\n",
       "<style scoped>\n",
       "    .dataframe tbody tr th:only-of-type {\n",
       "        vertical-align: middle;\n",
       "    }\n",
       "\n",
       "    .dataframe tbody tr th {\n",
       "        vertical-align: top;\n",
       "    }\n",
       "\n",
       "    .dataframe thead th {\n",
       "        text-align: right;\n",
       "    }\n",
       "</style>\n",
       "<table border=\"1\" class=\"dataframe\">\n",
       "  <thead>\n",
       "    <tr style=\"text-align: right;\">\n",
       "      <th></th>\n",
       "      <th>date</th>\n",
       "      <th>state</th>\n",
       "      <th>total_population</th>\n",
       "      <th>new_cases</th>\n",
       "      <th>new_cases_per_100_000</th>\n",
       "      <th>Initial Claims</th>\n",
       "      <th>Insured Unemployment Rate</th>\n",
       "    </tr>\n",
       "  </thead>\n",
       "  <tbody>\n",
       "    <tr>\n",
       "      <th>0</th>\n",
       "      <td>1/25/2020</td>\n",
       "      <td>Alabama</td>\n",
       "      <td>4887871.0</td>\n",
       "      <td>0.0</td>\n",
       "      <td>0.0</td>\n",
       "      <td>2,129</td>\n",
       "      <td>0.96</td>\n",
       "    </tr>\n",
       "    <tr>\n",
       "      <th>1</th>\n",
       "      <td>2/1/2020</td>\n",
       "      <td>Alabama</td>\n",
       "      <td>4887871.0</td>\n",
       "      <td>0.0</td>\n",
       "      <td>0.0</td>\n",
       "      <td>2,170</td>\n",
       "      <td>0.90</td>\n",
       "    </tr>\n",
       "    <tr>\n",
       "      <th>2</th>\n",
       "      <td>2/8/2020</td>\n",
       "      <td>Alabama</td>\n",
       "      <td>4887871.0</td>\n",
       "      <td>0.0</td>\n",
       "      <td>0.0</td>\n",
       "      <td>2,176</td>\n",
       "      <td>0.87</td>\n",
       "    </tr>\n",
       "    <tr>\n",
       "      <th>3</th>\n",
       "      <td>2/15/2020</td>\n",
       "      <td>Alabama</td>\n",
       "      <td>4887871.0</td>\n",
       "      <td>0.0</td>\n",
       "      <td>0.0</td>\n",
       "      <td>1,981</td>\n",
       "      <td>0.86</td>\n",
       "    </tr>\n",
       "    <tr>\n",
       "      <th>4</th>\n",
       "      <td>2/22/2020</td>\n",
       "      <td>Alabama</td>\n",
       "      <td>4887871.0</td>\n",
       "      <td>0.0</td>\n",
       "      <td>0.0</td>\n",
       "      <td>1,735</td>\n",
       "      <td>0.83</td>\n",
       "    </tr>\n",
       "  </tbody>\n",
       "</table>\n",
       "</div>"
      ],
      "text/plain": [
       "        date    state  total_population  new_cases  new_cases_per_100_000  \\\n",
       "0  1/25/2020  Alabama         4887871.0        0.0                    0.0   \n",
       "1   2/1/2020  Alabama         4887871.0        0.0                    0.0   \n",
       "2   2/8/2020  Alabama         4887871.0        0.0                    0.0   \n",
       "3  2/15/2020  Alabama         4887871.0        0.0                    0.0   \n",
       "4  2/22/2020  Alabama         4887871.0        0.0                    0.0   \n",
       "\n",
       "  Initial Claims  Insured Unemployment Rate  \n",
       "0          2,129                       0.96  \n",
       "1          2,170                       0.90  \n",
       "2          2,176                       0.87  \n",
       "3          1,981                       0.86  \n",
       "4          1,735                       0.83  "
      ]
     },
     "execution_count": 77,
     "metadata": {},
     "output_type": "execute_result"
    }
   ],
   "source": [
    "claims_with_cases_df = pd.merge(revised_cases_df, revised_unemployment_df, on=['date','state'], how='inner')\n",
    "claims_with_cases_df = claims_with_cases_df.fillna(0)\n",
    "claims_with_cases_df = claims_with_cases_df[['date','state','total_population','new_cases','new_cases_per_100_000','Initial Claims','Insured Unemployment Rate']]\n",
    "claims_with_cases_df.head()\n"
   ]
  },
  {
   "cell_type": "code",
   "execution_count": 56,
   "metadata": {},
   "outputs": [],
   "source": [
    "# Path of csv file, originally converted using tabula\n",
    "state_political_control_path = \"../Resources/Legislative Partison Composition by State 2020-04-01 - Processed.csv\"\n",
    "\n",
    "# Read the csv file\n",
    "state_political_control_df = pd.read_csv(state_political_control_path, encoding=\"ISO-8859-1\")"
   ]
  },
  {
   "cell_type": "code",
   "execution_count": 57,
   "metadata": {},
   "outputs": [
    {
     "data": {
      "text/html": [
       "<div>\n",
       "<style scoped>\n",
       "    .dataframe tbody tr th:only-of-type {\n",
       "        vertical-align: middle;\n",
       "    }\n",
       "\n",
       "    .dataframe tbody tr th {\n",
       "        vertical-align: top;\n",
       "    }\n",
       "\n",
       "    .dataframe thead th {\n",
       "        text-align: right;\n",
       "    }\n",
       "</style>\n",
       "<table border=\"1\" class=\"dataframe\">\n",
       "  <thead>\n",
       "    <tr style=\"text-align: right;\">\n",
       "      <th></th>\n",
       "      <th>state</th>\n",
       "      <th>State Control</th>\n",
       "    </tr>\n",
       "  </thead>\n",
       "  <tbody>\n",
       "    <tr>\n",
       "      <th>0</th>\n",
       "      <td>Alabama</td>\n",
       "      <td>Rep</td>\n",
       "    </tr>\n",
       "    <tr>\n",
       "      <th>1</th>\n",
       "      <td>Alaska</td>\n",
       "      <td>Rep</td>\n",
       "    </tr>\n",
       "    <tr>\n",
       "      <th>2</th>\n",
       "      <td>Arizona</td>\n",
       "      <td>Rep</td>\n",
       "    </tr>\n",
       "    <tr>\n",
       "      <th>3</th>\n",
       "      <td>Arkansas</td>\n",
       "      <td>Rep</td>\n",
       "    </tr>\n",
       "    <tr>\n",
       "      <th>4</th>\n",
       "      <td>California</td>\n",
       "      <td>Dem</td>\n",
       "    </tr>\n",
       "  </tbody>\n",
       "</table>\n",
       "</div>"
      ],
      "text/plain": [
       "        state State Control\n",
       "0     Alabama           Rep\n",
       "1      Alaska           Rep\n",
       "2     Arizona           Rep\n",
       "3    Arkansas           Rep\n",
       "4  California           Dem"
      ]
     },
     "execution_count": 57,
     "metadata": {},
     "output_type": "execute_result"
    }
   ],
   "source": [
    "# Display the data table for preview\n",
    "# Replace all NaN values with 0 \n",
    "state_political_control_df = state_political_control_df.fillna(0)\n",
    "\n",
    "state_political_control_df = state_political_control_df.rename(columns={'ï»¿STATE': 'state'})\n",
    "\n",
    "state_political_control_df = state_political_control_df[['state', 'State Control']]\n",
    "state_political_control_df.head()"
   ]
  },
  {
   "cell_type": "code",
   "execution_count": 79,
   "metadata": {},
   "outputs": [
    {
     "data": {
      "text/html": [
       "<div>\n",
       "<style scoped>\n",
       "    .dataframe tbody tr th:only-of-type {\n",
       "        vertical-align: middle;\n",
       "    }\n",
       "\n",
       "    .dataframe tbody tr th {\n",
       "        vertical-align: top;\n",
       "    }\n",
       "\n",
       "    .dataframe thead th {\n",
       "        text-align: right;\n",
       "    }\n",
       "</style>\n",
       "<table border=\"1\" class=\"dataframe\">\n",
       "  <thead>\n",
       "    <tr style=\"text-align: right;\">\n",
       "      <th></th>\n",
       "      <th>date</th>\n",
       "      <th>state</th>\n",
       "      <th>total_population</th>\n",
       "      <th>new_cases</th>\n",
       "      <th>new_cases_per_100_000</th>\n",
       "      <th>Initial Claims</th>\n",
       "      <th>Insured Unemployment Rate</th>\n",
       "      <th>State Control</th>\n",
       "    </tr>\n",
       "  </thead>\n",
       "  <tbody>\n",
       "    <tr>\n",
       "      <th>0</th>\n",
       "      <td>2020-01-25</td>\n",
       "      <td>Alabama</td>\n",
       "      <td>4887871.0</td>\n",
       "      <td>0.0</td>\n",
       "      <td>0.0</td>\n",
       "      <td>2129.0</td>\n",
       "      <td>0.96</td>\n",
       "      <td>Rep</td>\n",
       "    </tr>\n",
       "    <tr>\n",
       "      <th>1</th>\n",
       "      <td>2020-02-01</td>\n",
       "      <td>Alabama</td>\n",
       "      <td>4887871.0</td>\n",
       "      <td>0.0</td>\n",
       "      <td>0.0</td>\n",
       "      <td>2170.0</td>\n",
       "      <td>0.90</td>\n",
       "      <td>Rep</td>\n",
       "    </tr>\n",
       "    <tr>\n",
       "      <th>2</th>\n",
       "      <td>2020-02-08</td>\n",
       "      <td>Alabama</td>\n",
       "      <td>4887871.0</td>\n",
       "      <td>0.0</td>\n",
       "      <td>0.0</td>\n",
       "      <td>2176.0</td>\n",
       "      <td>0.87</td>\n",
       "      <td>Rep</td>\n",
       "    </tr>\n",
       "    <tr>\n",
       "      <th>3</th>\n",
       "      <td>2020-02-15</td>\n",
       "      <td>Alabama</td>\n",
       "      <td>4887871.0</td>\n",
       "      <td>0.0</td>\n",
       "      <td>0.0</td>\n",
       "      <td>1981.0</td>\n",
       "      <td>0.86</td>\n",
       "      <td>Rep</td>\n",
       "    </tr>\n",
       "    <tr>\n",
       "      <th>4</th>\n",
       "      <td>2020-02-22</td>\n",
       "      <td>Alabama</td>\n",
       "      <td>4887871.0</td>\n",
       "      <td>0.0</td>\n",
       "      <td>0.0</td>\n",
       "      <td>1735.0</td>\n",
       "      <td>0.83</td>\n",
       "      <td>Rep</td>\n",
       "    </tr>\n",
       "  </tbody>\n",
       "</table>\n",
       "</div>"
      ],
      "text/plain": [
       "        date    state  total_population  new_cases  new_cases_per_100_000  \\\n",
       "0 2020-01-25  Alabama         4887871.0        0.0                    0.0   \n",
       "1 2020-02-01  Alabama         4887871.0        0.0                    0.0   \n",
       "2 2020-02-08  Alabama         4887871.0        0.0                    0.0   \n",
       "3 2020-02-15  Alabama         4887871.0        0.0                    0.0   \n",
       "4 2020-02-22  Alabama         4887871.0        0.0                    0.0   \n",
       "\n",
       "   Initial Claims  Insured Unemployment Rate State Control  \n",
       "0          2129.0                       0.96           Rep  \n",
       "1          2170.0                       0.90           Rep  \n",
       "2          2176.0                       0.87           Rep  \n",
       "3          1981.0                       0.86           Rep  \n",
       "4          1735.0                       0.83           Rep  "
      ]
     },
     "execution_count": 79,
     "metadata": {},
     "output_type": "execute_result"
    }
   ],
   "source": [
    "combined_df = pd.merge(claims_with_cases_df, state_political_control_df, on=['state'], how='inner')\n",
    "combined_df['Initial Claims'] = combined_df['Initial Claims'].str.replace(',', '').astype(float)\n",
    "combined_df['date'] = combined_df['date'].astype('datetime64[ns]')\n",
    "combined_df.loc[combined_df['State Control'] == 0, 'State Control'] = 'Non_Partison'\n",
    "combined_df = combined_df.fillna(0)\n",
    "combined_df.head()\n",
    "\n",
    "#print(combined_df.dtypes)"
   ]
  },
  {
   "cell_type": "code",
   "execution_count": 110,
   "metadata": {},
   "outputs": [
    {
     "name": "stdout",
     "output_type": "stream",
     "text": [
      "                          new_cases_per_100_000  Insured Unemployment Rate\n",
      "State Control date                                                        \n",
      "Dem           2020-01-25                    0.0                      24.92\n",
      "              2020-02-01                    0.0                      25.74\n",
      "              2020-02-08                    0.0                      25.10\n",
      "              2020-02-15                    0.0                      25.04\n",
      "              2020-02-22                    0.0                      24.92\n",
      "                          new_cases_per_100_000  Insured Unemployment Rate\n",
      "State Control date                                                        \n",
      "Dem           2020-01-25                    0.0                   1.661333\n",
      "              2020-02-01                    0.0                   1.716000\n",
      "              2020-02-08                    0.0                   1.673333\n",
      "              2020-02-15                    0.0                   1.669333\n",
      "              2020-02-22                    0.0                   1.661333\n"
     ]
    }
   ],
   "source": [
    "grouped_sum_df = combined_df.groupby(['State Control', 'date']).sum()\n",
    "grouped_sum_df = grouped_sum_df[['new_cases_per_100_000','Insured Unemployment Rate']]\n",
    "print(grouped_sum_df.head())\n",
    "\n",
    "grouped_mean_df = combined_df.groupby(['State Control', 'date']).mean()\n",
    "grouped_mean_df = grouped_mean_df[['new_cases_per_100_000','Insured Unemployment Rate']]\n",
    "print(grouped_mean_df.head())"
   ]
  },
  {
   "cell_type": "code",
   "execution_count": 111,
   "metadata": {},
   "outputs": [
    {
     "data": {
      "text/plain": [
       "(array([737456., 737485., 737516., 737546., 737577., 737607., 737638.,\n",
       "        737669., 737699., 737730.]),\n",
       " <a list of 10 Text major ticklabel objects>)"
      ]
     },
     "execution_count": 111,
     "metadata": {},
     "output_type": "execute_result"
    },
    {
     "data": {
      "image/png": "[encoded data removed]",
      "text/plain": [
       "<Figure size 432x288 with 1 Axes>"
      ]
     },
     "metadata": {
      "needs_background": "light"
     },
     "output_type": "display_data"
    }
   ],
   "source": [
    "unstacked_sum_df = grouped_sum_df.unstack(level=0)\n",
    "\n",
    "dates1 = unstacked_sum_df.index.values\n",
    "\n",
    "new_cases_dem = unstacked_sum_df['new_cases_per_100_000']['Dem']\n",
    "new_cases_rep = unstacked_sum_df['new_cases_per_100_000']['Rep']\n",
    "new_cases_div = unstacked_sum_df['new_cases_per_100_000']['Divided']\n",
    "new_cases_nonp = unstacked_sum_df['new_cases_per_100_000']['Non_Partison']\n",
    "\n",
    "dem_cases, = plt.plot(dates, new_cases_dem, color=\"blue\", label=\"Democratic Control\",)\n",
    "rep_cases, = plt.plot(dates, new_cases_rep, color=\"red\", label=\"Republican Control\")\n",
    "div_cases, = plt.plot(dates, new_cases_div, color=\"yellow\", label=\"Divided Control\")\n",
    "nonp_cases, = plt.plot(dates, new_cases_nonp, color=\"gray\", label=\"Non-Partison Control\")\n",
    "plt.legend()\n",
    "plt.title('Covid Cases vs Partison Control at State Level')\n",
    "plt.xlabel('Date')\n",
    "plt.ylabel('# of New Cases (per 100,000)')\n",
    "plt.xticks(rotation=45)"
   ]
  },
  {
   "cell_type": "code",
   "execution_count": 114,
   "metadata": {},
   "outputs": [
    {
     "data": {
      "text/plain": [
       "(array([737456., 737485., 737516., 737546., 737577., 737607., 737638.,\n",
       "        737669., 737699., 737730.]),\n",
       " <a list of 10 Text major ticklabel objects>)"
      ]
     },
     "execution_count": 114,
     "metadata": {},
     "output_type": "execute_result"
    },
    {
     "data": {
      "image/png": "[encoded data removed]",
      "text/plain": [
       "<Figure size 432x288 with 1 Axes>"
      ]
     },
     "metadata": {
      "needs_background": "light"
     },
     "output_type": "display_data"
    }
   ],
   "source": [
    "unstacked_mean_df = grouped_mean_df.unstack(level=0)\n",
    "\n",
    "unemployment_dem = unstacked_mean_df['Insured Unemployment Rate']['Dem']\n",
    "unemployment_rep = unstacked_mean_df['Insured Unemployment Rate']['Rep']\n",
    "unemployment_div = unstacked_mean_df['Insured Unemployment Rate']['Divided']\n",
    "unemployment_nonp = unstacked_mean_df['Insured Unemployment Rate']['Non_Partison']\n",
    "\n",
    "dem_unemployment, = plt.plot(dates, unemployment_dem, color=\"blue\", label=\"Democratic Control\",)\n",
    "rep_unemployment, = plt.plot(dates, unemployment_rep, color=\"red\", label=\"Republican Control\")\n",
    "div_unemployment, = plt.plot(dates, unemployment_div, color=\"yellow\", label=\"Divided Control\")\n",
    "nonp_unemployment, = plt.plot(dates, unemployment_nonp, color=\"gray\", label=\"Non-Partison Control\")\n",
    "plt.legend(loc='upper right')\n",
    "plt.title('Unemployment Rate vs Partison Control at State Level')\n",
    "plt.xlabel('Date')\n",
    "plt.ylabel('Unemployment Rate %')\n",
    "plt.xticks(rotation=45)"
   ]
  },
  {
   "cell_type": "code",
   "execution_count": 112,
   "metadata": {},
   "outputs": [
    {
     "name": "stdout",
     "output_type": "stream",
     "text": [
      "                    new_cases_per_100_000  Insured Unemployment Rate\n",
      "state   date                                                        \n",
      "Alabama 2020-01-25                    0.0                       0.96\n",
      "        2020-02-01                    0.0                       0.90\n",
      "        2020-02-08                    0.0                       0.87\n",
      "        2020-02-15                    0.0                       0.86\n",
      "        2020-02-22                    0.0                       0.83\n",
      "                    new_cases_per_100_000  Insured Unemployment Rate\n",
      "state   date                                                        \n",
      "Alabama 2020-01-25                    0.0                       0.96\n",
      "        2020-02-01                    0.0                       0.90\n",
      "        2020-02-08                    0.0                       0.87\n",
      "        2020-02-15                    0.0                       0.86\n",
      "        2020-02-22                    0.0                       0.83\n"
     ]
    }
   ],
   "source": [
    "state_grouped_sum_df = combined_df.groupby([combined_df['state'], combined_df['date']]).sum()\n",
    "state_grouped_sum_df = state_grouped_sum_df[['new_cases_per_100_000','Insured Unemployment Rate']]\n",
    "print(state_grouped_sum_df.head())\n",
    "\n",
    "state_grouped_mean_df = combined_df.groupby([combined_df['state'], combined_df['date']]).sum()\n",
    "state_grouped_mean_df = state_grouped_mean_df[['new_cases_per_100_000','Insured Unemployment Rate']]\n",
    "print(state_grouped_mean_df.head())"
   ]
  },
  {
   "cell_type": "code",
   "execution_count": 106,
   "metadata": {},
   "outputs": [
    {
     "name": "stdout",
     "output_type": "stream",
     "text": [
      "Enter a state: Maryland\n"
     ]
    },
    {
     "data": {
      "text/plain": [
       "(array([737456., 737485., 737516., 737546., 737577., 737607., 737638.,\n",
       "        737669., 737699., 737730.]),\n",
       " <a list of 10 Text major ticklabel objects>)"
      ]
     },
     "execution_count": 106,
     "metadata": {},
     "output_type": "execute_result"
    },
    {
     "data": {
      "image/png": "[encoded data removed]",
      "text/plain": [
       "<Figure size 432x288 with 1 Axes>"
      ]
     },
     "metadata": {
      "needs_background": "light"
     },
     "output_type": "display_data"
    }
   ],
   "source": [
    "state_unstacked_sum_df = state_grouped_sum_df.unstack(level=0)\n",
    "\n",
    "state = input('Enter a state: ')\n",
    "\n",
    "new_cases_state = state_unstacked_sum_df['new_cases_per_100_000'][state]\n",
    "\n",
    "state_cases, = plt.plot(dates, new_cases_state, color=\"orange\", label=state,)\n",
    "\n",
    "plt.legend()\n",
    "plt.title(f'Covid Cases: {state}')\n",
    "plt.xlabel('Date')\n",
    "plt.ylabel('# of New Cases (per 100000)')\n",
    "plt.xticks(rotation=45)"
   ]
  },
  {
   "cell_type": "code",
   "execution_count": 108,
   "metadata": {},
   "outputs": [
    {
     "data": {
      "text/plain": [
       "(array([737456., 737485., 737516., 737546., 737577., 737607., 737638.,\n",
       "        737669., 737699., 737730.]),\n",
       " <a list of 10 Text major ticklabel objects>)"
      ]
     },
     "execution_count": 108,
     "metadata": {},
     "output_type": "execute_result"
    },
    {
     "data": {
      "image/png": "[encoded data removed]",
      "text/plain": [
       "<Figure size 432x288 with 1 Axes>"
      ]
     },
     "metadata": {
      "needs_background": "light"
     },
     "output_type": "display_data"
    }
   ],
   "source": [
    "state_unstacked_mean_df = state_grouped_mean_df.unstack(level=0)\n",
    "\n",
    "unemployment_state = state_unstacked_mean_df['Insured Unemployment Rate'][state]\n",
    "\n",
    "state_unemployment, = plt.plot(dates, unemployment_state, color=\"orange\", label=state,)\n",
    "\n",
    "plt.legend()\n",
    "plt.title(f'Unemployment: {state}')\n",
    "plt.xlabel('Date')\n",
    "plt.ylabel('Unemployment Rate %')\n",
    "plt.xticks(rotation=45)"
   ]
  },
  {
   "cell_type": "code",
   "execution_count": null,
   "metadata": {},
   "outputs": [],
   "source": []
  },
  {
   "cell_type": "code",
   "execution_count": null,
   "metadata": {},
   "outputs": [],
   "source": []
  }
 ],
 "metadata": {
  "kernelspec": {
   "display_name": "Python 3",
   "language": "python",
   "name": "python3"
  },
  "language_info": {
   "codemirror_mode": {
    "name": "ipython",
    "version": 3
   },
   "file_extension": ".py",
   "mimetype": "text/x-python",
   "name": "python",
   "nbconvert_exporter": "python",
   "pygments_lexer": "ipython3",
   "version": "3.8.3"
  }
 },
 "nbformat": 4,
 "nbformat_minor": 4
}
